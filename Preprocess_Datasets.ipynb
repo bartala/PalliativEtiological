{
  "nbformat": 4,
  "nbformat_minor": 0,
  "metadata": {
    "colab": {
      "provenance": [],
      "machine_shape": "hm",
      "gpuType": "T4",
      "mount_file_id": "1gGvZ_b2JOB3EcRid_tMSR5q0E0C5eBqH",
      "authorship_tag": "ABX9TyOd8S1Ie57lZik3g/kd49d4",
      "include_colab_link": true
    },
    "kernelspec": {
      "name": "python3",
      "display_name": "Python 3"
    },
    "language_info": {
      "name": "python"
    },
    "accelerator": "GPU"
  },
  "cells": [
    {
      "cell_type": "markdown",
      "metadata": {
        "id": "view-in-github",
        "colab_type": "text"
      },
      "source": [
        "<a href=\"https://colab.research.google.com/github/bartala/PalliativEtiological/blob/main/Preprocess_Datasets.ipynb\" target=\"_parent\"><img src=\"https://colab.research.google.com/assets/colab-badge.svg\" alt=\"Open In Colab\"/></a>"
      ]
    },
    {
      "cell_type": "markdown",
      "source": [
        "Import necessary libraries."
      ],
      "metadata": {
        "id": "Mgy1LJKBz-w6"
      }
    },
    {
      "cell_type": "code",
      "execution_count": 4,
      "metadata": {
        "id": "RoA0UZivVtBQ"
      },
      "outputs": [],
      "source": [
        "import pandas as pd\n",
        "import re\n",
        "import csv"
      ]
    },
    {
      "cell_type": "markdown",
      "source": [
        "### Preprocess Datasets"
      ],
      "metadata": {
        "id": "XMQbwJoY4mgd"
      }
    },
    {
      "cell_type": "markdown",
      "source": [
        "1. **Creating the format of the labled dataset & preprocess DrugBank data.**  \n",
        "Please remember that this code will not produce the full dataset included with the paper, as we manually annotated the mechanisms of action of the drugs. <br>\n",
        "You can find the labled data set in this repository named 'DrugLabels.xlsx'"
      ],
      "metadata": {
        "id": "BT6Qr5oU4DHc"
      }
    },
    {
      "cell_type": "code",
      "source": [
        "# Read in the input file\n",
        "df_drugBank = pd.read_csv('approved_all_drug_target.csv')\n",
        "\n",
        "# Filter out rows where 'Species' column is not 'Humans'\n",
        "df_drugBank = df_drugBank[df_drugBank['Species'] == 'Humans']\n",
        "\n",
        "# Split the values in the \"Drug IDs\" column by \";\"\n",
        "df_drugBank['Drug IDs'] = df_drugBank['Drug IDs'].apply(lambda x: x.split(\"; \"))\n",
        "\n",
        "# Explode the \"Drug IDs\" column so that each value is in a new row\n",
        "df_drugBank = df_drugBank.explode('Drug IDs')\n",
        "\n",
        "# Drugs without genes name : DB00693, DB13979, DB16900\n",
        "# Fill in missing 'Gene Name' values from the 'Name' column and upcase both 'Gene Name' and 'Name'\n",
        "# Convert genes name to uppercase for consistency\n",
        "df_drugBank['Gene Name'] = df_drugBank['Gene Name'].fillna(df_drugBank['Name']).str.upper()\n",
        "df_drugBank['Name'] = df_drugBank['Name'].str.upper()\n",
        "\n",
        "# Export the final DataFrame to a CSV file\n",
        "df_drugBank.to_csv('temp.csv', index=False)\n",
        "\n",
        "# Group by the Drug ID and aggregate the gene names into a list for each drug\n",
        "df_drugBank_grouped = df_drugBank.groupby('Drug IDs')['Gene Name'].apply(list).reset_index()\n",
        "\n",
        "# Find the maximum number of genes associated with any drug\n",
        "num_max_genes = df_drugBank_grouped['Gene Name'].str.len().max()\n",
        "\n",
        "# Padding the gene lists so that each list has the same length\n",
        "df_drugBank_grouped['Gene Name'] = df_drugBank_grouped['Gene Name'].apply(lambda x: x + [None] * (num_max_genes - len(x)))\n",
        "\n",
        "# Convert them into a DataFrame\n",
        "df_genes = pd.DataFrame(df_drugBank_grouped['Gene Name'].to_list(), columns=[f'gene{i+1}' for i in range(num_max_genes)])\n",
        "\n",
        "# Merge the gene columns back with the Drug IDs\n",
        "df_final = pd.concat([df_drugBank_grouped[['Drug IDs']], df_genes], axis=1)\n",
        "\n",
        "# Include the additional columns that we need to track on each drug\n",
        "additional_columns = {\n",
        "    'Drug Name' : '',\n",
        "    'Associated Conditions' : '',\n",
        "    'ATC class': '',\n",
        "    'MoA': '',\n",
        "    'Drug_Description' : '',\n",
        "    'URL': ''\n",
        "}\n",
        "\n",
        "# Add the additional columns to the DataFrame\n",
        "for col, placeholder in additional_columns.items():\n",
        "  df_final[col] = placeholder\n",
        "\n",
        "# Reorder the columns in the df\n",
        "column_order = ['Drug IDs', 'Drug Name', 'Associated Conditions', 'ATC class', 'MoA', 'Drug_Description', 'URL'] + [f'gene{i+1}' for i in range(num_max_genes)]\n",
        "\n",
        "df_final = df_final[column_order]\n",
        "print(f\"Column of the dataset:\")\n",
        "print(df_final.columns)\n",
        "# Export the final DataFrame to a CSV file\n",
        "df_final.to_excel('DrugLabels-V1.xlsx', index=False)"
      ],
      "metadata": {
        "id": "NN8nNcXAevqC",
        "colab": {
          "base_uri": "https://localhost:8080/"
        },
        "outputId": "e3b659bf-e18d-4957-d421-4ec653302465"
      },
      "execution_count": null,
      "outputs": [
        {
          "output_type": "stream",
          "name": "stdout",
          "text": [
            "Column of the dataset:\n",
            "Index(['Drug IDs', 'Drug Name', 'Associated Conditions', 'ATC class', 'MoA',\n",
            "       'Drug_Description', 'URL', 'gene1', 'gene2', 'gene3',\n",
            "       ...\n",
            "       'gene295', 'gene296', 'gene297', 'gene298', 'gene299', 'gene300',\n",
            "       'gene301', 'gene302', 'gene303', 'gene304'],\n",
            "      dtype='object', length=311)\n"
          ]
        }
      ]
    },
    {
      "cell_type": "markdown",
      "source": [
        "2. **Preprocess OMIM (morbidmap) dataset.**  \n",
        "Contrain diseases+genes"
      ],
      "metadata": {
        "id": "j28zPe8Q4ykB"
      }
    },
    {
      "cell_type": "code",
      "source": [
        "def preprocess_disease_name_old(disease_name):\n",
        "      # Extract the text inside [] or {}\n",
        "    match = re.search(r'[\\{\\[]([^}\\]]+)[\\}\\]]', disease_name)\n",
        "    if match:\n",
        "        disease_name = match.group(1)\n",
        "    else:\n",
        "        # If there are no brackets, we just clean up the remaining numbers and commas\n",
        "        disease_name = re.sub(r', \\d+$', '', disease_name)\n",
        "\n",
        "    # Extract text up to a number in parenthesis like (1), (2), etc.\n",
        "    # This number explain which way the disease-gene interaction discover.\n",
        "    disease_name = re.sub(r'\\s+\\(\\d+\\)', '', disease_name)\n",
        "    # Remove all '?' characters\n",
        "    disease_name = disease_name.replace('?', '')\n",
        "    # Remove the unique ID numbers.\n",
        "    disease_name = re.sub(r'\\s+\\d{3,}$', '', disease_name)\n",
        "    # Remove commas and extra spaces from the new string\n",
        "    disease_name = disease_name.replace(\",\", \"\")\n",
        "    disease_name = ' '.join(disease_name.split())\n",
        "\n",
        "    return disease_name"
      ],
      "metadata": {
        "id": "OvxxkqEpqeQG"
      },
      "execution_count": 51,
      "outputs": []
    },
    {
      "cell_type": "code",
      "source": [
        "\"\"\"\n",
        "We used hex notation for special characters and digit characters in the regular expression to resolve an error from GitHub.\n",
        "\"\"\"\n",
        "def preprocess_disease_name(disease_name):\n",
        "    # First, try to extract text inside curly braces {} or square brackets []\n",
        "    match_curly = re.search(r'\\{([^}]+)\\}', disease_name)\n",
        "    # '\\x5B([^\\x5D]+)\\x5D' = '\\[([^\\]]+)\\]'\n",
        "    match_square = re.search(r'\\x5B([^\\x5D]+)\\x5D', disease_name)\n",
        "    if match_curly:\n",
        "        disease_name = match_curly.group(1)\n",
        "    elif match_square:\n",
        "        disease_name = match_square.group(1)\n",
        "    else:\n",
        "        # If there are no brackets, we just clean up the remaining numbers and commas\n",
        "        disease_name = re.sub(r', \\d+$', '', disease_name)\n",
        "\n",
        "    # Extract text up to a number in parenthesis like (1), (2), etc.\n",
        "    # This number explain which way the disease-gene interaction discover.\n",
        "    disease_name = re.sub(r'\\s+\\([0-9]+\\)', '', disease_name)\n",
        "\n",
        "    # Remove all '?' characters\n",
        "    disease_name = disease_name.replace('?', '')\n",
        "    # Remove the unique ID numbers.\n",
        "    disease_name = re.sub(r'\\s+\\d{3,}$', '', disease_name)\n",
        "    # Remove commas and extra spaces from the new string\n",
        "    disease_name = disease_name.replace(\",\", \"\")\n",
        "    disease_name = ' '.join(disease_name.split())\n",
        "\n",
        "    return disease_name\n"
      ],
      "metadata": {
        "id": "qB8Vb6JHnz6A"
      },
      "execution_count": 52,
      "outputs": []
    },
    {
      "cell_type": "code",
      "source": [
        "omim_dataset_path = \"morbidmap.txt\"\n",
        "\n",
        "# Convert the dataset from txt to csv file\n",
        "df_omim = pd.read_csv(omim_dataset_path, sep='\\t', comment='#')\n",
        "\n",
        "# Set the columns name\n",
        "df_omim.columns = [\"Disease\",\"Gene\",\"MIM Number\",\"Cyto Location\"]\n",
        "\n",
        "# Keep only the disease and the genes that they are associated with.\n",
        "df_omim = df_omim[['Disease', 'Gene']]\n",
        "\n",
        "# Process the data\n",
        "explode_data = []\n",
        "for index, row in df_omim.iterrows():\n",
        "    disease = row['Disease']\n",
        "    disease = preprocess_disease_name(disease)\n",
        "    genes = row['Gene'].split(',')\n",
        "\n",
        "    for gene in genes:\n",
        "        # In the data\n",
        "        gene = gene.strip().upper()  # Remove white spaces and convert gene to uppercase\n",
        "        explode_data.append({'Disease': disease, 'Gene': gene})\n",
        "\n",
        "# Create a new DataFrame from the array\n",
        "df_explode_omim = pd.DataFrame(explode_data)\n",
        "\n",
        "# Drop rows where 'Gene Symbole' is NaN or empty string\n",
        "df_explode_omim.dropna(subset=['Gene'], inplace=True)\n",
        "df_explode_omim = df_explode_omim[df_explode_omim['Gene'] != '']\n",
        "\n",
        "df_explode_omim.to_csv('processed_omim.csv', index=False)\n",
        "\n",
        "print(df_explode_omim.head())"
      ],
      "metadata": {
        "id": "aIBR2wrx45E9",
        "colab": {
          "base_uri": "https://localhost:8080/"
        },
        "outputId": "fc485fed-107c-4010-9287-e2f53e67e27c"
      },
      "execution_count": 53,
      "outputs": [
        {
          "output_type": "stream",
          "name": "stdout",
          "text": [
            "                                      Disease     Gene\n",
            "0  17-alpha-hydroxylase/1720-lyase deficiency  CYP17A1\n",
            "1  17-alpha-hydroxylase/1720-lyase deficiency    CYP17\n",
            "2  17-alpha-hydroxylase/1720-lyase deficiency  P450C17\n",
            "3         24-dienoyl-CoA reductase deficiency    NADK2\n",
            "4         24-dienoyl-CoA reductase deficiency  C5ORF33\n"
          ]
        }
      ]
    },
    {
      "cell_type": "code",
      "source": [
        "omim_dataset_path = \"morbidmap.txt\"\n",
        "\n",
        "# Convert the dataset from txt to csv file\n",
        "df_omim = pd.read_csv(omim_dataset_path, sep='\\t', comment='#')\n",
        "\n",
        "# Set the columns name\n",
        "df_omim.columns = [\"Disease\",\"Gene\",\"MIM Number\",\"Cyto Location\"]\n",
        "\n",
        "# Keep only the disease and the genes that they are associated with.\n",
        "df_omim = df_omim[['Disease', 'Gene']]\n",
        "\n",
        "# Process the data\n",
        "explode_data = []\n",
        "for index, row in df_omim.iterrows():\n",
        "    disease = row['Disease']\n",
        "    disease = preprocess_disease_name_old(disease)\n",
        "    genes = row['Gene'].split(',')\n",
        "\n",
        "    for gene in genes:\n",
        "        # In the data\n",
        "        gene = gene.strip().upper()  # Remove white spaces and convert gene to uppercase\n",
        "        explode_data.append({'Disease': disease, 'Gene': gene})\n",
        "\n",
        "# Create a new DataFrame from the array\n",
        "df_explode_omim = pd.DataFrame(explode_data)\n",
        "\n",
        "# Drop rows where 'Gene Symbole' is NaN or empty string\n",
        "df_explode_omim.dropna(subset=['Gene'], inplace=True)\n",
        "df_explode_omim = df_explode_omim[df_explode_omim['Gene'] != '']\n",
        "\n",
        "df_explode_omim.to_csv('processed_omim_old.csv', index=False)\n",
        "\n",
        "print(df_explode_omim.head())"
      ],
      "metadata": {
        "colab": {
          "base_uri": "https://localhost:8080/"
        },
        "id": "UsSn0Ksen5Bo",
        "outputId": "e673c68d-651b-4ab0-a968-5d504aa78556"
      },
      "execution_count": 54,
      "outputs": [
        {
          "output_type": "stream",
          "name": "stdout",
          "text": [
            "                                      Disease     Gene\n",
            "0  17-alpha-hydroxylase/1720-lyase deficiency  CYP17A1\n",
            "1  17-alpha-hydroxylase/1720-lyase deficiency    CYP17\n",
            "2  17-alpha-hydroxylase/1720-lyase deficiency  P450C17\n",
            "3         24-dienoyl-CoA reductase deficiency    NADK2\n",
            "4         24-dienoyl-CoA reductase deficiency  C5ORF33\n"
          ]
        }
      ]
    },
    {
      "cell_type": "code",
      "source": [
        "import pandas as pd\n",
        "\n",
        "# Load the two datasets\n",
        "df_new = pd.read_csv('processed_omim.csv')\n",
        "df_old = pd.read_csv('processed_omim_old.csv')\n",
        "\n",
        "# Check if the two DataFrames are identical\n",
        "if df_new.equals(df_old):\n",
        "    print(\"The files are identical.\")\n",
        "else:\n",
        "    print(\"The files are not identical.\")\n",
        "\n",
        "    # Find differences\n",
        "    df_diff = pd.concat([df_new, df_old]).drop_duplicates(keep=False)\n",
        "    print(\"Differences:\")\n",
        "    print(df_diff)\n"
      ],
      "metadata": {
        "colab": {
          "base_uri": "https://localhost:8080/"
        },
        "id": "hfEGmPbOokhx",
        "outputId": "9be58073-f007-4f41-e5e6-b68d8e5b3f25"
      },
      "execution_count": 55,
      "outputs": [
        {
          "output_type": "stream",
          "name": "stdout",
          "text": [
            "The files are identical.\n"
          ]
        }
      ]
    },
    {
      "cell_type": "markdown",
      "source": [
        "3. **Preprocess Biogrid (PPI) dataset.**  \n",
        " Contrain (PPI - genes+genes)"
      ],
      "metadata": {
        "id": "cEJRnkm34y5H"
      }
    },
    {
      "cell_type": "code",
      "source": [
        "# read the csv file\n",
        "df_biogrid = pd.read_csv('BIOGRID-ORGANISM-Homo_sapiens-4.4.217.tab3.txt', sep='\\t', low_memory=False)\n",
        "\n",
        "\n",
        "# Filter the DataFrame to keep rows with 'Homo sapiens' in both organism columns\n",
        "df_filtered_biogrid = df_biogrid[(df_biogrid['Organism Name Interactor A'] == 'Homo sapiens') & (df_biogrid['Organism Name Interactor B'] == 'Homo sapiens')].copy()\n",
        "\n",
        "# Convert genes name to uppercase for consistency\n",
        "df_filtered_biogrid['Official Symbol Interactor A'] = df_filtered_biogrid['Official Symbol Interactor A'].str.upper()\n",
        "df_filtered_biogrid['Official Symbol Interactor B'] = df_filtered_biogrid['Official Symbol Interactor B'].str.upper()\n",
        "\n",
        "# Keep only the Official Symbol of the genes\n",
        "df_filtered_biogrid = df_filtered_biogrid[['Official Symbol Interactor A',\t'Official Symbol Interactor B']]\n",
        "\n",
        "df_filtered_biogrid.to_csv('processed_biogrid.csv', index=False)\n",
        "\n",
        "print(f\"Head of processed_omim: \")\n",
        "print(df_filtered_biogrid.head())"
      ],
      "metadata": {
        "id": "84-AYAc745XX",
        "colab": {
          "base_uri": "https://localhost:8080/"
        },
        "outputId": "2a865480-c15a-44f2-e550-2354a3982d61"
      },
      "execution_count": null,
      "outputs": [
        {
          "output_type": "stream",
          "name": "stdout",
          "text": [
            "Head of processed_omim: \n",
            "  Official Symbol Interactor A Official Symbol Interactor B\n",
            "0                       MAP2K4                         FLNC\n",
            "1                         MYPN                        ACTN2\n",
            "2                        ACVR1                         FNTA\n",
            "3                        GATA2                          PML\n",
            "4                         RPA2                        STAT3\n"
          ]
        }
      ]
    },
    {
      "cell_type": "markdown",
      "source": [
        "# Union all the datasets"
      ],
      "metadata": {
        "id": "8tCaAsAp4RaE"
      }
    },
    {
      "cell_type": "code",
      "source": [
        "\"\"\"\n",
        "It is important to use the dataset which we fill manually with labels and the other information of each drug.\n",
        "You can find this dataset in the repository.\n",
        "\"\"\"\n",
        "\n",
        "df_drug = pd.read_excel('DrugLabels.xlsx')\n",
        "# Convert and save as a CSV file\n",
        "df_drug.to_csv('DrugLabels.csv', index=False)\n",
        "df_disease_gene = pd.read_csv('processed_omim.csv')\n",
        "df_gene_gene = pd.read_csv('processed_biogrid.csv')\n",
        "\n",
        "# Extracting drug-gene interactions\n",
        "gene_columns = [col for col in df_drug.columns if 'gene' in col]\n",
        "df_drug_melted = df_drug.melt(id_vars=['Drug IDs', 'MoA', 'ATC class', 'Drug_Description_New'],\n",
        "                              value_vars=gene_columns,\n",
        "                              value_name='gene').dropna()\n",
        "\n",
        "df_drug_interactions = df_drug_melted[['Drug IDs', 'gene', 'MoA', 'ATC class', 'Drug_Description_New']].copy()\n",
        "df_drug_interactions.rename(columns={\"Drug IDs\": \"Source Name\", \"gene\": \"Target Name\"}, inplace=True)\n",
        "df_drug_interactions['Source Type'] = 'Drug'\n",
        "df_drug_interactions['Target Type'] = 'Gene'\n",
        "df_drug_interactions['Interaction Type'] = 'drug_target'\n",
        "\n",
        "print(f\"Head of drug_target interaction: \")\n",
        "print(df_drug_interactions.head())\n",
        "\n",
        "# Extracting Disease-gene interactions\n",
        "df_disease_interactions = df_disease_gene[['Disease', 'Gene']].copy()\n",
        "df_disease_interactions.rename(columns={\"Disease\": \"Source Name\", \"Gene\": \"Target Name\"}, inplace=True)\n",
        "df_disease_interactions['Source Type'] = 'Disease'\n",
        "df_disease_interactions['Target Type'] = 'Gene'\n",
        "df_disease_interactions['Interaction Type'] = 'association'\n",
        "df_disease_interactions['MoA'] = '-'\n",
        "df_disease_interactions['ATC class'] = '-'\n",
        "df_disease_interactions['Drug_Description_New'] = '-'\n",
        "\n",
        "print('\\n'*3)\n",
        "print(f\"Head of association interaction: \")\n",
        "print(df_disease_interactions.head())\n",
        "\n",
        "# Extracting gene-gene interactions\n",
        "df_gene_interactions = df_gene_gene[['Official Symbol Interactor A', 'Official Symbol Interactor B']].copy()\n",
        "df_gene_interactions.rename(columns={\"Official Symbol Interactor A\": \"Source Name\", \"Official Symbol Interactor B\": \"Target Name\"}, inplace=True)\n",
        "df_gene_interactions['Source Type'] = 'Gene'\n",
        "df_gene_interactions['Target Type'] = 'Gene'\n",
        "df_gene_interactions['Interaction Type'] = 'PPI'\n",
        "df_gene_interactions['MoA'] = '-'\n",
        "df_gene_interactions['ATC class'] = '-'\n",
        "df_gene_interactions['Drug_Description_New'] = '-'\n",
        "\n",
        "print('\\n'*3)\n",
        "print(f\"Head of PPI interaction: \")\n",
        "print(df_gene_interactions.head())\n",
        "\n",
        "# Merging all the interaction dataframes\n",
        "merged_df = pd.concat([df_drug_interactions, df_disease_interactions, df_gene_interactions], ignore_index=True)\n",
        "\n",
        "# Save the merged dataframe to a CSV file\n",
        "merged_df.to_csv(\"comprehensive_dataset.csv.gz\", index=False, compression='gzip')\n"
      ],
      "metadata": {
        "colab": {
          "base_uri": "https://localhost:8080/"
        },
        "id": "kczHRfrpZBE7",
        "outputId": "56ca51d5-8e17-45ff-f50a-85b9e222fa71"
      },
      "execution_count": null,
      "outputs": [
        {
          "output_type": "stream",
          "name": "stdout",
          "text": [
            "Head of drug_target interaction: \n",
            "  Source Name Target Name MoA ATC class  \\\n",
            "0     DB00001          F2   p         B   \n",
            "1     DB00002      FCGR1A   e         L   \n",
            "2     DB00004       IL2RB   e         L   \n",
            "3     DB00005         TNF   p         L   \n",
            "4     DB00006          F2   p         B   \n",
            "\n",
            "                                Drug_Description_New Source Type Target Type  \\\n",
            "0  Lepirudin is a protein-based direct thrombin i...        Drug        Gene   \n",
            "1  Cetuximab is an endothelial growth factor rece...        Drug        Gene   \n",
            "2  Denileukin diftitox is a recombinant cytotoxic...        Drug        Gene   \n",
            "3  Etanercept is a protein therapy based on the b...        Drug        Gene   \n",
            "4  Bivalirudin is a direct thrombin inhibitor use...        Drug        Gene   \n",
            "\n",
            "  Interaction Type  \n",
            "0      drug_target  \n",
            "1      drug_target  \n",
            "2      drug_target  \n",
            "3      drug_target  \n",
            "4      drug_target  \n",
            "\n",
            "\n",
            "\n",
            "\n",
            "Head of association interaction: \n",
            "                                  Source Name Target Name Source Type  \\\n",
            "0  17-alpha-hydroxylase/1720-lyase deficiency     CYP17A1     Disease   \n",
            "1  17-alpha-hydroxylase/1720-lyase deficiency       CYP17     Disease   \n",
            "2  17-alpha-hydroxylase/1720-lyase deficiency     P450C17     Disease   \n",
            "3         24-dienoyl-CoA reductase deficiency       NADK2     Disease   \n",
            "4         24-dienoyl-CoA reductase deficiency     C5ORF33     Disease   \n",
            "\n",
            "  Target Type Interaction Type MoA ATC class Drug_Description_New  \n",
            "0        Gene      association   -         -                    -  \n",
            "1        Gene      association   -         -                    -  \n",
            "2        Gene      association   -         -                    -  \n",
            "3        Gene      association   -         -                    -  \n",
            "4        Gene      association   -         -                    -  \n",
            "\n",
            "\n",
            "\n",
            "\n",
            "Head of PPI interaction: \n",
            "  Source Name Target Name Source Type Target Type Interaction Type MoA  \\\n",
            "0      MAP2K4        FLNC        Gene        Gene              PPI   -   \n",
            "1        MYPN       ACTN2        Gene        Gene              PPI   -   \n",
            "2       ACVR1        FNTA        Gene        Gene              PPI   -   \n",
            "3       GATA2         PML        Gene        Gene              PPI   -   \n",
            "4        RPA2       STAT3        Gene        Gene              PPI   -   \n",
            "\n",
            "  ATC class Drug_Description_New  \n",
            "0         -                    -  \n",
            "1         -                    -  \n",
            "2         -                    -  \n",
            "3         -                    -  \n",
            "4         -                    -  \n"
          ]
        }
      ]
    }
  ]
}